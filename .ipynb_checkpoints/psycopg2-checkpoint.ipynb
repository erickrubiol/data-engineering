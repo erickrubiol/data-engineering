{
 "cells": [
  {
   "cell_type": "code",
   "execution_count": 1,
   "metadata": {},
   "outputs": [],
   "source": [
    "from psycopg2 import connect\n",
    "import os\n",
    "import json\n",
    "import math"
   ]
  },
  {
   "cell_type": "code",
   "execution_count": null,
   "metadata": {},
   "outputs": [],
   "source": [
    "import os\n",
    "import json\n",
    "import math\n",
    "import psycopg2"
   ]
  },
  {
   "cell_type": "code",
   "execution_count": 2,
   "metadata": {},
   "outputs": [],
   "source": [
    "json_data = '/home/erick/Downloads/distros.json'"
   ]
  },
  {
   "cell_type": "code",
   "execution_count": 3,
   "metadata": {},
   "outputs": [],
   "source": [
    "#Load JSON Files\n",
    "with open(json_data, 'r') as f:\n",
    "    distros_dict = json.load(f) "
   ]
  },
  {
   "cell_type": "code",
   "execution_count": 4,
   "metadata": {},
   "outputs": [
    {
     "name": "stdout",
     "output_type": "stream",
     "text": [
      "846\n"
     ]
    }
   ],
   "source": [
    "#Load file size in bytes (1+e6)\n",
    "file_size = os.path.getsize(json_data)\n",
    "print(file_size)"
   ]
  },
  {
   "cell_type": "code",
   "execution_count": 7,
   "metadata": {},
   "outputs": [
    {
     "name": "stdout",
     "output_type": "stream",
     "text": [
      "{'Name': 'Debian', 'Version': '9', 'Install': 'apt', 'Owner': 'SPI', 'Kernel': '4.9'}\n",
      "{'Name': 'Ubuntu', 'Version': '17.10', 'Install': 'apt', 'Owner': 'Canonical', 'Kernel': '4.13'}\n",
      "{'Name': 'Fedora', 'Version': '26', 'Install': 'dnf', 'Owner': 'Red Hat', 'Kernel': '4.13'}\n",
      "{'Name': 'CentOS', 'Version': '7', 'Install': 'yum', 'Owner': 'Red Hat', 'Kernel': '3.10'}\n",
      "{'Name': 'OpenSUSE', 'Version': '42.3', 'Install': 'zypper', 'Owner': 'Novell', 'Kernel': '4.4'}\n",
      "{'Name': 'Arch Linux', 'Version': 'Rolling Release', 'Install': 'pacman', 'Owner': 'SPI', 'Kernel': '4.13'}\n",
      "{'Name': 'Gentoo', 'Version': 'Rolling Release', 'Install': 'emerge', 'Owner': 'Gentoo Foundation', 'Kernel': '4.12'}\n"
     ]
    }
   ],
   "source": [
    "for i in distros_dict:\n",
    "    print(i)"
   ]
  },
  {
   "cell_type": "code",
   "execution_count": null,
   "metadata": {},
   "outputs": [],
   "source": [
    "con = psycopg2.connect(database='datamodel', user='postgres')\n",
    "cur = con.cursor()"
   ]
  },
  {
   "cell_type": "code",
   "execution_count": 6,
   "metadata": {},
   "outputs": [],
   "source": [
    "conn = connect(\n",
    "    dbname = \"datamodel\",\n",
    "    user = \"postgres\",\n",
    "    host = \"localhost\",\n",
    "    password = \"eKwr2715\"\n",
    ")\n",
    "cur = conn.cursor()"
   ]
  },
  {
   "cell_type": "code",
   "execution_count": 9,
   "metadata": {},
   "outputs": [],
   "source": [
    "q = \"\"\"CREATE TABLE IF NOT EXISTS datamodel.distros (\n",
    "    Name varchar(20),\n",
    "    Version varchar(20),\n",
    "    Install varchar(20),\n",
    "    Owner varchar(20),\n",
    "    Kernel varchar(20)\n",
    ");\n",
    "\"\"\""
   ]
  },
  {
   "cell_type": "code",
   "execution_count": 10,
   "metadata": {},
   "outputs": [
    {
     "ename": "InvalidSchemaName",
     "evalue": "schema \"datamodel\" does not exist\nLINE 1: CREATE TABLE IF NOT EXISTS datamodel.distros (\n                                   ^\n",
     "output_type": "error",
     "traceback": [
      "\u001b[0;31m---------------------------------------------------------------------------\u001b[0m",
      "\u001b[0;31mInvalidSchemaName\u001b[0m                         Traceback (most recent call last)",
      "\u001b[0;32m<ipython-input-10-0cae4b2d309d>\u001b[0m in \u001b[0;36m<module>\u001b[0;34m\u001b[0m\n\u001b[0;32m----> 1\u001b[0;31m \u001b[0mcur\u001b[0m\u001b[0;34m.\u001b[0m\u001b[0mexecute\u001b[0m\u001b[0;34m(\u001b[0m\u001b[0mq\u001b[0m\u001b[0;34m)\u001b[0m\u001b[0;34m\u001b[0m\u001b[0;34m\u001b[0m\u001b[0m\n\u001b[0m",
      "\u001b[0;31mInvalidSchemaName\u001b[0m: schema \"datamodel\" does not exist\nLINE 1: CREATE TABLE IF NOT EXISTS datamodel.distros (\n                                   ^\n"
     ]
    }
   ],
   "source": [
    "cur.execute(q)"
   ]
  },
  {
   "cell_type": "code",
   "execution_count": 12,
   "metadata": {},
   "outputs": [],
   "source": [
    "# close the cursor object to avoid memory leaks\n",
    "cur.close()\n",
    "\n",
    "# close the connection as well\n",
    "conn.close()"
   ]
  }
 ],
 "metadata": {
  "kernelspec": {
   "display_name": "Python 3",
   "language": "python",
   "name": "python3"
  },
  "language_info": {
   "codemirror_mode": {
    "name": "ipython",
    "version": 3
   },
   "file_extension": ".py",
   "mimetype": "text/x-python",
   "name": "python",
   "nbconvert_exporter": "python",
   "pygments_lexer": "ipython3",
   "version": "3.8.6"
  }
 },
 "nbformat": 4,
 "nbformat_minor": 4
}
